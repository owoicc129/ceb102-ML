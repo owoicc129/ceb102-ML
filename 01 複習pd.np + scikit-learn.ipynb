{
 "cells": [
  {
   "cell_type": "markdown",
   "metadata": {},
   "source": [
    "# Install scikit-learn\n"
   ]
  },
  {
   "cell_type": "markdown",
   "metadata": {},
   "source": [
    "`pip install scikit-learn`"
   ]
  },
  {
   "cell_type": "markdown",
   "metadata": {},
   "source": [
    "# Pandas Basic"
   ]
  },
  {
   "cell_type": "code",
   "execution_count": 2,
   "metadata": {},
   "outputs": [
    {
     "name": "stdout",
     "output_type": "stream",
     "text": [
      "create dataframe from list\n",
      "    name  math score  english score\n",
      "0  isaac          60             50\n",
      "1  julie          90             70\n",
      "2   alex          30             40\n",
      "create dataframe from dict\n",
      "    name  math score  english score\n",
      "0  isaac          60             50\n",
      "1  julie          90             70\n",
      "2   alex          30             40\n"
     ]
    }
   ],
   "source": [
    "import pandas as pd\n",
    "\n",
    "my_list = [('isaac', 60, 50),('julie', 90, 70),('alex', 30, 40)]\n",
    "header = ['name','math score','english score']\n",
    "\n",
    "                        # .from_records帶入data\n",
    "df_from_list = pd.DataFrame.from_records(my_list, columns=header)\n",
    "\n",
    "print('create dataframe from list')\n",
    "print(df_from_list)\n",
    "\n",
    "\n",
    "my_dict = \\\n",
    "[{'name':'isaac', 'math score':60,'english score':50},\n",
    "{'name':'julie', 'math score':90,'english score':70},\n",
    "{'name':'alex', 'math score':30,'english score':40}\n",
    "]\n",
    "\n",
    "df_from_dict = pd.DataFrame(my_dict, columns=['name', 'math score', 'english score'])\n",
    "\n",
    "print('create dataframe from dict')\n",
    "print(df_from_dict)"
   ]
  },
  {
   "cell_type": "code",
   "execution_count": 7,
   "metadata": {},
   "outputs": [
    {
     "name": "stdout",
     "output_type": "stream",
     "text": [
      "   Season  Daynum  Wteam  Wscore  Lteam  Lscore Wloc  Numot\n",
      "0    1985      20   1228      81   1328      64    N      0\n",
      "1    1985      25   1106      77   1354      70    H      0\n",
      "2    1985      25   1112      63   1223      56    H      0\n",
      "3    1985      25   1165      70   1432      54    H      0\n",
      "4    1985      25   1192      86   1447      74    H      0\n",
      "        Season  Daynum  Wteam  Wscore  Lteam  Lscore Wloc  Numot\n",
      "145284    2016     132   1114      70   1419      50    N      0\n",
      "145285    2016     132   1163      72   1272      58    N      0\n",
      "145286    2016     132   1246      82   1401      77    N      1\n",
      "145287    2016     132   1277      66   1345      62    N      0\n",
      "145288    2016     132   1386      87   1433      74    N      0\n",
      "              Season         Daynum          Wteam         Wscore  \\\n",
      "count  145289.000000  145289.000000  145289.000000  145289.000000   \n",
      "mean     2001.574834      75.223816    1286.720646      76.600321   \n",
      "std         9.233342      33.287418     104.570275      12.173033   \n",
      "min      1985.000000       0.000000    1101.000000      34.000000   \n",
      "25%      1994.000000      47.000000    1198.000000      68.000000   \n",
      "50%      2002.000000      78.000000    1284.000000      76.000000   \n",
      "75%      2010.000000     103.000000    1379.000000      84.000000   \n",
      "max      2016.000000     132.000000    1464.000000     186.000000   \n",
      "\n",
      "               Lteam         Lscore          Numot  \n",
      "count  145289.000000  145289.000000  145289.000000  \n",
      "mean     1282.864064      64.497009       0.044387  \n",
      "std       104.829234      11.380625       0.247819  \n",
      "min      1101.000000      20.000000       0.000000  \n",
      "25%      1191.000000      57.000000       0.000000  \n",
      "50%      1280.000000      64.000000       0.000000  \n",
      "75%      1375.000000      72.000000       0.000000  \n",
      "max      1464.000000     150.000000       6.000000  \n",
      "Season    2016\n",
      "Daynum     132\n",
      "Wteam     1464\n",
      "Wscore     186\n",
      "Lteam     1464\n",
      "Lscore     150\n",
      "Wloc         N\n",
      "Numot        6\n",
      "dtype: object\n",
      "       Season  Daynum  Wteam  Wscore  Lteam  Lscore Wloc  Numot\n",
      "5269     1986      75   1258     151   1109     107    H      0\n",
      "12046    1988      40   1328     152   1147      84    H      0\n",
      "12355    1988      52   1328     151   1173      99    N      0\n",
      "16040    1989      40   1328     152   1331     122    H      0\n",
      "16853    1989      68   1258     162   1109     144    A      0\n",
      "17867    1989      92   1258     181   1109     150    H      0\n",
      "19653    1990      30   1328     173   1109     101    H      0\n",
      "19971    1990      38   1258     152   1109     137    A      0\n",
      "20022    1990      40   1116     166   1109     101    H      0\n",
      "22145    1990      97   1258     157   1362     115    H      0\n",
      "23582    1991      26   1318     152   1258     123    N      0\n",
      "24341    1991      47   1328     172   1258     112    H      0\n",
      "24970    1991      68   1258     186   1109     140    H      0\n",
      "25656    1991      84   1106     151   1212      97    H      0\n",
      "28687    1992      54   1261     159   1319      86    H      0\n",
      "35023    1993     112   1380     155   1341      91    A      0\n",
      "40060    1995      32   1375     156   1341     114    H      0\n",
      "52600    1998      33   1395     153   1410      87    H      0\n",
      "   Season  Daynum  Wteam  Wscore  Lteam  Lscore Wloc  Numot\n",
      "0    1985      25   1106      77   1354      70    H      0\n",
      "1    1985      25   1112      63   1223      56    H      0\n",
      "2    1985      25   1165      70   1432      54    H      0\n",
      "3    1985      25   1192      86   1447      74    H      0\n",
      "4    1985      25   1218      79   1337      78    H      0\n",
      "   Daynum  Wteam  Wscore  Lteam  Lscore Wloc  Numot\n",
      "0      20   1228      81   1328      64    N      0\n",
      "1      25   1106      77   1354      70    H      0\n",
      "2      25   1112      63   1223      56    H      0\n",
      "3      25   1165      70   1432      54    H      0\n",
      "4      25   1192      86   1447      74    H      0\n"
     ]
    }
   ],
   "source": [
    "# use pandas to read csv file\n",
    "df = pd.read_csv('RegularSeasonCompactResults.csv')\n",
    "\n",
    "# print first five row\n",
    "print(df.head())\n",
    "\n",
    "# print last five row\n",
    "print(df.tail())\n",
    "\n",
    "# statistics on the dataframe\n",
    "print(df.describe())\n",
    "\n",
    "# print max value of each column\n",
    "print(df.max())\n",
    "\n",
    "# print Wscore that is greater than 150\n",
    "print(df[df['Wscore'] > 150])\n",
    "\n",
    "# drop rows and reset index\n",
    "df_drop_row = df.drop(df.index[0]) #把索引0那行刪掉\n",
    "df_reset_index1 = df_drop_row.reset_index(drop=True) #重整索引\n",
    "print(df_reset_index1.head())\n",
    "\n",
    "# drop columns\n",
    "df_drop_column = df.drop('Season', axis=1)  #刪欄\n",
    "print(df_drop_column.head())"
   ]
  },
  {
   "cell_type": "code",
   "execution_count": 3,
   "metadata": {},
   "outputs": [
    {
     "name": "stdout",
     "output_type": "stream",
     "text": [
      "   Season  Daynum\n",
      "0    1985      20\n",
      "1    1985      25\n",
      "2    1985      25\n",
      "3    1985      25\n",
      "4    1985      25\n",
      "0    0\n",
      "1    1\n",
      "2    1\n",
      "3    1\n",
      "4    1\n",
      "Name: Daynum, dtype: int64\n"
     ]
    }
   ],
   "source": [
    "df = pd.read_csv('RegularSeasonCompactResults.csv')\n",
    "\n",
    "#想要多欄位\n",
    "df_new = df[['Season', 'Daynum']]   \n",
    "print(df_new.head())\n",
    "\n",
    "# .to_csv存檔\n",
    "df_new.to_csv('dfnew.csv', index=False)   \n",
    "#df_new.to_csv('dfnew.csv', index=False, header=False)\n",
    "\n",
    "#.apply把欄位所有值都帶入公式\n",
    "df_daynum = df_new['Daynum'].apply(lambda x: 1 if x> 23 else 0) # if x>23 給他1\n",
    "print(df_daynum.head())"
   ]
  },
  {
   "cell_type": "markdown",
   "metadata": {},
   "source": [
    "# Load CSV file"
   ]
  },
  {
   "cell_type": "code",
   "execution_count": 4,
   "metadata": {},
   "outputs": [
    {
     "name": "stdout",
     "output_type": "stream",
     "text": [
      "   size  number_room  house_price house_type\n",
      "0  40.0          3.0          800        old\n",
      "1  29.0          5.0          700      young\n",
      "2  33.0          2.0          670      young\n",
      "3   NaN          2.0          770        old\n",
      "4   NaN          NaN          870      young\n",
      "(5, 4)\n",
      "[ 3.  5.  2.  2. nan]\n"
     ]
    }
   ],
   "source": [
    "import pandas as pd\n",
    "\n",
    "# load csv file\n",
    "df = pd.read_csv('demo.csv')\n",
    "\n",
    "# load csv file without header\n",
    "# df = pd.read_csv('demo.csv', header=None)\n",
    "\n",
    "# print dataframe\n",
    "print(df)\n",
    "\n",
    "# print dataframe shape\n",
    "print(df.shape)\n",
    "\n",
    "# print column\n",
    "print(df['number_room'].values)  #只想看這欄的值"
   ]
  },
  {
   "cell_type": "markdown",
   "metadata": {},
   "source": [
    "# Numpy Basic"
   ]
  },
  {
   "cell_type": "code",
   "execution_count": 4,
   "metadata": {},
   "outputs": [
    {
     "name": "stdout",
     "output_type": "stream",
     "text": [
      "<class 'numpy.ndarray'>\n",
      "(3,)\n",
      "1 2 3\n",
      "[5 2 3]\n",
      "(2, 3)\n",
      "1 2 4\n",
      "[[0. 0.]\n",
      " [0. 0.]]\n",
      "[[1. 1.]]\n",
      "[[7 7]\n",
      " [7 7]]\n",
      "[[1. 0.]\n",
      " [0. 1.]]\n",
      "[[0.01697629 0.0697718 ]\n",
      " [0.58022408 0.21448915]]\n"
     ]
    }
   ],
   "source": [
    "import numpy as np\n",
    "\n",
    "a = np.array([1, 2, 3])   # Create a rank 1 array\n",
    "print(type(a))            # Prints \"<class 'numpy.ndarray'>\"\n",
    "print(a.shape)            # Prints \"(3,)\"\n",
    "print(a[0], a[1], a[2])   # Prints \"1 2 3\"\n",
    "a[0] = 5                  # Change an element of the array\n",
    "print(a)                  # Prints \"[5, 2, 3]\"\n",
    "\n",
    "b = np.array([[1,2,3],[4,5,6]])    # Create a rank 2 array\n",
    "print(b.shape)                     # Prints \"(2, 3)\"\n",
    "print(b[0, 0], b[0, 1], b[1, 0])   # Prints \"1 2 4\"\n",
    "\n",
    "a = np.zeros((2,2))   # Create an array of all zeros\n",
    "print(a)              # Prints \"[[ 0.  0.]\n",
    "                      #          [ 0.  0.]]\"\n",
    "\n",
    "b = np.ones((1,2))    # Create an array of all ones\n",
    "print(b)              # Prints \"[[ 1.  1.]]\"\n",
    "\n",
    "c = np.full((2,2), 7)  # Create a constant array\n",
    "print(c)               # Prints \"[[ 7.  7.]\n",
    "                       #          [ 7.  7.]]\"\n",
    "\n",
    "d = np.eye(2)         # Create a 2x2 identity matrix\n",
    "print(d)              # Prints \"[[ 1.  0.]\n",
    "                      #          [ 0.  1.]]\"\n",
    "\n",
    "e = np.random.random((2,2))  # Create an array filled with random values\n",
    "print(e)                     # Might print \"[[ 0.91940167  0.08143941]\n",
    "                             #               [ 0.68744134  0.87236687]]\"\n"
   ]
  },
  {
   "cell_type": "markdown",
   "metadata": {},
   "source": [
    "ref: http://cs231n.github.io/python-numpy-tutorial/#numpy"
   ]
  },
  {
   "cell_type": "markdown",
   "metadata": {},
   "source": [
    "# Missing value 遺失值處理\n",
    "- inplace = True：不创建新的对象，直接对原始对象进行修改；\n",
    "- inplace = False：对数据进行修改，创建并返回新的对象承载其修改结果。\n",
    "- 默认是False，即创建新的对象进行修改，原对象不变，和深复制和浅复制有些类似。"
   ]
  },
  {
   "cell_type": "code",
   "execution_count": 6,
   "metadata": {},
   "outputs": [
    {
     "name": "stdout",
     "output_type": "stream",
     "text": [
      "   size  number_room  house_price house_type\n",
      "0  40.0          3.0          800        old\n",
      "1  29.0          5.0          700      young\n",
      "2  33.0          2.0          670      young\n",
      "3   NaN          2.0          770        old\n",
      "4   NaN          NaN          870      young\n",
      "=========================================\n",
      "   size  number_room  house_price house_type\n",
      "0  40.0          3.0          800        old\n",
      "1  29.0          5.0          700      young\n",
      "2  33.0          2.0          670      young\n",
      "=========================================\n",
      "   size  number_room  house_price house_type\n",
      "0  40.0          3.0          800        old\n",
      "1  29.0          5.0          700      young\n",
      "2  33.0          2.0          670      young\n",
      "3  34.0          2.0          770        old\n",
      "4  34.0          NaN          870      young\n"
     ]
    }
   ],
   "source": [
    "import pandas as pd\n",
    "\n",
    "# load csv file\n",
    "df = pd.read_csv('demo.csv')\n",
    "print(df)\n",
    "print('=========================================')\n",
    "\n",
    "#.dropna() 有缺失值的整行都丟掉\n",
    "df_no_missing = df.dropna()  \n",
    "print(df_no_missing)\n",
    "print('=========================================')\n",
    "\n",
    "#.fillna(補什麼 , inplace)\n",
    "df[\"size\"].fillna(df[\"size\"].mean(), inplace=True)  \n",
    "print(df)"
   ]
  },
  {
   "cell_type": "markdown",
   "metadata": {},
   "source": [
    "## Encoding categorical features 把類別型(文字) 改成數字\n",
    "- pd.Categorical(df['欄位']).codes\n",
    "- .codes 會自己幫你排列 按英文字順序 從0開始給一個代表類別的數字"
   ]
  },
  {
   "cell_type": "code",
   "execution_count": 7,
   "metadata": {},
   "outputs": [
    {
     "name": "stdout",
     "output_type": "stream",
     "text": [
      "   size  number_room  house_price house_type\n",
      "0  40.0          3.0          800        old\n",
      "1  29.0          5.0          700      young\n",
      "2  33.0          2.0          670      young\n",
      "3   NaN          2.0          770        old\n",
      "4   NaN          NaN          870      young\n",
      "=========================================\n",
      "   size  number_room  house_price  house_type\n",
      "0  40.0          3.0          800           0\n",
      "1  29.0          5.0          700           1\n",
      "2  33.0          2.0          670           1\n",
      "3   NaN          2.0          770           0\n",
      "4   NaN          NaN          870           1\n"
     ]
    }
   ],
   "source": [
    "import pandas as pd\n",
    "\n",
    "df = pd.read_csv('demo.csv')\n",
    "\n",
    "print(df)  #發現有一欄是文字 沒辦法做計算\n",
    "print('=========================================')\n",
    "\n",
    "df['house_type'] = pd.Categorical(df['house_type']).codes\n",
    "print(df)"
   ]
  },
  {
   "cell_type": "markdown",
   "metadata": {},
   "source": [
    "# CSV資料型別轉換 dataframe / numpy array "
   ]
  },
  {
   "cell_type": "code",
   "execution_count": 9,
   "metadata": {},
   "outputs": [
    {
     "name": "stdout",
     "output_type": "stream",
     "text": [
      "[[40.0 3.0 800 'old']\n",
      " [29.0 5.0 700 'young']\n",
      " [33.0 2.0 670 'young']\n",
      " [nan 2.0 770 'old']\n",
      " [nan nan 870 'young']]\n",
      "      0    1    2      3\n",
      "0  40.0  3.0  800    old\n",
      "1  29.0  5.0  700  young\n",
      "2  33.0  2.0  670  young\n",
      "3   NaN  2.0  770    old\n",
      "4   NaN  NaN  870  young\n"
     ]
    }
   ],
   "source": [
    "import pandas as pd\n",
    "import numpy as np\n",
    "\n",
    "df = pd.read_csv('demo.csv')\n",
    "\n",
    "#dataframe 轉為 numpy array\n",
    "numpy_array = np.array(df)\n",
    "print(numpy_array)\n",
    "\n",
    "#numpy array 轉為 dataframe\n",
    "df_from_numpy = pd.DataFrame(numpy_array)\n",
    "print(df_from_numpy)"
   ]
  },
  {
   "cell_type": "markdown",
   "metadata": {},
   "source": [
    "# train_test_split 資料分兩批 訓練/測試 "
   ]
  },
  {
   "cell_type": "code",
   "execution_count": 15,
   "metadata": {},
   "outputs": [
    {
     "name": "stdout",
     "output_type": "stream",
     "text": [
      "x: [[ 0  1]\n",
      " [ 2  3]\n",
      " [ 4  5]\n",
      " [ 6  7]\n",
      " [ 8  9]\n",
      " [10 11]\n",
      " [12 13]\n",
      " [14 15]\n",
      " [16 17]\n",
      " [18 19]]\n",
      "y: [0 1 2 3 4 5 6 7 8 9]\n",
      "shape of x: (10, 2)\n",
      "shape of y: (10,)\n",
      "=====================\n",
      "x_train: [[ 8  9]\n",
      " [ 0  1]\n",
      " [ 6  7]\n",
      " [ 2  3]\n",
      " [14 15]\n",
      " [16 17]\n",
      " [10 11]]\n",
      "x_test: [[ 4  5]\n",
      " [18 19]\n",
      " [12 13]]\n",
      "y_train: [4 0 3 1 7 8 5]\n",
      "y_test: [2 9 6]\n"
     ]
    }
   ],
   "source": [
    "import numpy as np\n",
    "from sklearn.model_selection import train_test_split\n",
    "\n",
    "x, y = np.arange(20).reshape((10, 2)), np.arange(10)\n",
    "print('x:',x)\n",
    "print('y:',y)\n",
    "\n",
    "print(\"shape of x:\" ,x.shape)\n",
    "print(\"shape of y:\" ,y.shape)\n",
    "\n",
    "print('=====================')\n",
    "\n",
    "#train_test_split                                         訓練資料7成 測試資料3成 / random_state 取消隨機\n",
    "x_train, x_test, y_train, y_test = train_test_split(x, y, test_size=0.3,random_state=1)\n",
    "\n",
    "print(\"x_train:\",x_train) # X 訓練\n",
    "print(\"x_test:\",x_test)   # X 測試\n",
    "\n",
    "print(\"y_train:\" ,y_train) # Y 訓練\n",
    "print(\"y_test:\" ,y_test)   # Y 測試"
   ]
  },
  {
   "cell_type": "markdown",
   "metadata": {},
   "source": [
    "# preprocessing 資料預處理 \n",
    "### z-score normalization\n",
    "- 用z-score normalization取得標準差.平均值 ：preprocessing.StandardScaler().fit()\n",
    "- 對數據進行標準化： .transform()\n",
    "\n",
    "講義 P.19     normalization \n",
    "- ` .fit() 不會改變任何東西，在 建模.調參數 或 算統計變量時 會看到.fit() `"
   ]
  },
  {
   "cell_type": "code",
   "execution_count": 19,
   "metadata": {},
   "outputs": [
    {
     "name": "stdout",
     "output_type": "stream",
     "text": [
      "mean of x_train: [4.00000000e+02 0.00000000e+00 3.33333333e-01]\n",
      "std of x_train: [355.9026084    0.81649658   1.24721913]\n",
      "mean of x_scale: [4.00000000e+02 0.00000000e+00 3.33333333e-01]\n",
      "std of x_scale: [355.9026084    0.81649658   1.24721913]\n",
      "============after standardiztion===========\n",
      "x_train: [[-0.84292723 -1.22474487  1.33630621]\n",
      " [ 1.40487872  0.         -0.26726124]\n",
      " [-0.56195149  1.22474487 -1.06904497]]\n",
      "x_test: [[-1.12671273  1.22474487 -0.26726124]]\n"
     ]
    }
   ],
   "source": [
    "from sklearn import preprocessing\n",
    "import numpy as np\n",
    "\n",
    "x_train = np.array([[ 100., -1.,  2.],\n",
    "                    [ 900.,  0.,  0.],\n",
    "                    [ 200.,  1., -1.]])\n",
    "\n",
    "#算平均.標準差 方法一：\n",
    "print(\"mean of x_train:\",x_train.mean(axis=0))\n",
    "print(\"std of x_train:\",x_train.std(axis=0))\n",
    "\n",
    "#算平均.標準差 方法二：\n",
    "scaler = preprocessing.StandardScaler().fit(x_train)  # .StandardScaler會去算平均標準差 z-score normalization\n",
    "\n",
    "print(\"mean of x_scale:\",scaler.mean_)\n",
    "print(\"std of x_scale:\",scaler.scale_)\n",
    "\n",
    "# 用平均值和標準差 對數據進行標準化\n",
    "x_train = scaler.transform(x_train) # .transform 壓在-1~1之間\n",
    "\n",
    "print(\"============after standardiztion===========\")\n",
    "\n",
    "print('x_train:',x_train)\n",
    "\n",
    "x_test = np.array([[-1., 1., 0.]])\n",
    "\n",
    "x_test = scaler.transform(x_test)  #[重點]用 x_train的平均值.標準差 再對 x_test做標準化\n",
    "print('x_test:',x_test)"
   ]
  },
  {
   "cell_type": "markdown",
   "metadata": {},
   "source": [
    "### min-max normalization\n",
    "- 用min-max normalization取得平均值.標準差 ： preprocessing.MinMaxScaler().fit()\n",
    "- 對數據進行標準化： .transform()"
   ]
  },
  {
   "cell_type": "code",
   "execution_count": 20,
   "metadata": {},
   "outputs": [
    {
     "name": "stdout",
     "output_type": "stream",
     "text": [
      "x_train: [[0.5        0.         1.        ]\n",
      " [1.         0.5        0.33333333]\n",
      " [0.         1.         0.        ]]\n",
      "x_test: [[-1.5         0.          1.66666667]]\n"
     ]
    }
   ],
   "source": [
    "from sklearn import preprocessing\n",
    "import numpy as np\n",
    "\n",
    "x_train = np.array([[ 1., -1.,  2.],\n",
    "                    [ 2.,  0.,  0.],\n",
    "                    [ 0.,  1., -1.]])\n",
    "\n",
    "scaler = preprocessing.MinMaxScaler().fit(x_train) #.MinMaxScaler 會算 min-max normalization\n",
    "\n",
    "# 用平均值和標準差 對數據進行標準化\n",
    "x_train = scaler.transform(x_train) #壓在0~1之間\n",
    "\n",
    "print('x_train:',x_train)\n",
    "\n",
    "x_test = np.array([[ -3., -1.,  4.]])\n",
    "\n",
    "x_test = scaler.transform(x_test)  #[重點] 用 x_train的平均值.標準差 再對 x_test做標準化\n",
    "print('x_test:',x_test)"
   ]
  },
  {
   "cell_type": "markdown",
   "metadata": {},
   "source": [
    "# Evaluate Result 評估結果(衡量模型好壞)\n",
    "P.23"
   ]
  },
  {
   "cell_type": "code",
   "execution_count": 22,
   "metadata": {},
   "outputs": [
    {
     "name": "stdout",
     "output_type": "stream",
     "text": [
      "Mean squared error: 0.4\n",
      "r2 score: -0.6666666666666665\n",
      "accuracy: 0.6\n",
      "number of correct sample: 3\n",
      "confusion matrix: [[2 1]\n",
      " [1 1]]\n"
     ]
    }
   ],
   "source": [
    "from sklearn.metrics import mean_squared_error, r2_score, accuracy_score, confusion_matrix\n",
    "\n",
    "y_test = [0, 1, 0 , 1, 0]\n",
    "y_pred = [1, 0, 0 , 1, 0]\n",
    "\n",
    "#回歸的問題 用mean_squared_error, r2_score\n",
    "mse = mean_squared_error(y_test, y_pred)\n",
    "r2 = r2_score(y_test, y_pred)  \n",
    "\n",
    "#分類的問題 用accuracy_score, confusion_matrix\n",
    "accuracy = accuracy_score(y_test, y_pred) #準確度\n",
    "num_correct_samples = accuracy_score(y_test, y_pred, normalize=False) #normalize=False(回傳猜對幾個樣本)\n",
    "con_matrix = confusion_matrix(y_test, y_pred) #混淆矩陣\n",
    "\n",
    "\n",
    "print(\"Mean squared error:\",mse)\n",
    "print('r2 score:',r2)\n",
    "\n",
    "print('accuracy:',accuracy)\n",
    "print('number of correct sample:',num_correct_samples)\n",
    "print('confusion matrix:',con_matrix)"
   ]
  },
  {
   "cell_type": "markdown",
   "metadata": {},
   "source": [
    "## Kaggle Introduction"
   ]
  },
  {
   "cell_type": "markdown",
   "metadata": {},
   "source": [
    "kaggle website: https://www.kaggle.com/  \n",
    "kaggle api: https://github.com/Kaggle/kaggle-api"
   ]
  },
  {
   "cell_type": "markdown",
   "metadata": {
    "collapsed": true
   },
   "source": [
    "# 練習\n",
    "- read student-mat.csv 讀檔\n",
    "- change \"sex\" column to number 改變欄位內容\n",
    "1. if sex = F → change sex = 1\n",
    "2. if sex = M → change sex = 0\n",
    "- filter out age is < 17 過濾\n",
    "- save final dataframe to a csv file 存檔"
   ]
  },
  {
   "cell_type": "code",
   "execution_count": 5,
   "metadata": {},
   "outputs": [
    {
     "name": "stdout",
     "output_type": "stream",
     "text": [
      "  school  sex  age address famsize Pstatus  Medu  Fedu      Mjob      Fjob  \\\n",
      "2     GP    1   15       U     LE3       T     1     1   at_home     other   \n",
      "3     GP    1   15       U     GT3       T     4     2    health  services   \n",
      "4     GP    1   16       U     GT3       T     3     3     other     other   \n",
      "5     GP    0   16       U     LE3       T     4     3  services     other   \n",
      "6     GP    0   16       U     LE3       T     2     2     other     other   \n",
      "\n",
      "   ... famrel freetime  goout  Dalc  Walc health absences  G1  G2  G3  \n",
      "2  ...      4        3      2     2     3      3       10   7   8  10  \n",
      "3  ...      3        2      2     1     1      5        2  15  14  15  \n",
      "4  ...      4        3      2     1     2      5        4   6  10  10  \n",
      "5  ...      5        4      2     1     2      5       10  15  15  15  \n",
      "6  ...      4        4      4     1     1      3        0  12  12  11  \n",
      "\n",
      "[5 rows x 33 columns]\n"
     ]
    }
   ],
   "source": [
    "import pandas as pd\n",
    "\n",
    "df = pd.read_csv('./dataset/student-mat.csv')\n",
    "# print(df.head())\n",
    "\n",
    "df['sex'] = df['sex'].apply(lambda x: 1 if x =='F' else 0)  # if x=\"F\" 就給值1  \n",
    "\n",
    "df = df[df['age']<=16] #df ['條件']\n",
    "\n",
    "df.to_csv('./01練習.csv')"
   ]
  }
 ],
 "metadata": {
  "kernelspec": {
   "display_name": "Python 3",
   "language": "python",
   "name": "python3"
  },
  "language_info": {
   "codemirror_mode": {
    "name": "ipython",
    "version": 3
   },
   "file_extension": ".py",
   "mimetype": "text/x-python",
   "name": "python",
   "nbconvert_exporter": "python",
   "pygments_lexer": "ipython3",
   "version": "3.7.9"
  }
 },
 "nbformat": 4,
 "nbformat_minor": 2
}
