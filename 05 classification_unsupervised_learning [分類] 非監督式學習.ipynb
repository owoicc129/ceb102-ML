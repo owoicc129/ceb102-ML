{
 "cells": [
  {
   "cell_type": "markdown",
   "metadata": {},
   "source": [
    "# K-means (分群 找重心) \n",
    "ref: http://scikit-learn.org/stable/modules/generated/sklearn.cluster.KMeans.html\n",
    "\n",
    "- 鳶尾花資料集 來源： (User Guide 可以看欄位簡介)\n",
    "- https://scikit-learn.org/stable/modules/generated/sklearn.datasets.load_iris.html\n",
    "1. Classes：3  (分3種花)\n",
    "2. Samples per class：50  (每一種類50筆)\n",
    "3. Samples total：150 (共150筆)\n",
    "4. Dimensionality：4 (維度4，每一筆特徵有4個：花萼長寬.花蕊長寬)\n",
    "5. 目標：用前面4欄的特性，去看應該是屬於哪一類別的花"
   ]
  },
  {
   "cell_type": "code",
   "execution_count": 15,
   "metadata": {},
   "outputs": [
    {
     "name": "stdout",
     "output_type": "stream",
     "text": [
      "centroids: [[5.006      3.428      1.462      0.246     ]\n",
      " [5.9016129  2.7483871  4.39354839 1.43387097]\n",
      " [6.85       3.07368421 5.74210526 2.07105263]]\n",
      "prediction on each data: [0 0 0 0 0 0 0 0 0 0 0 0 0 0 0 0 0 0 0 0 0 0 0 0 0 0 0 0 0 0 0 0 0 0 0 0 0\n",
      " 0 0 0 0 0 0 0 0 0 0 0 0 0 1 1 2 1 1 1 1 1 1 1 1 1 1 1 1 1 1 1 1 1 1 1 1 1\n",
      " 1 1 1 2 1 1 1 1 1 1 1 1 1 1 1 1 1 1 1 1 1 1 1 1 1 1 2 1 2 2 2 2 1 2 2 2 2\n",
      " 2 2 1 1 2 2 2 2 1 2 1 2 1 2 2 1 1 2 2 2 2 2 1 2 2 2 2 1 2 2 2 1 2 2 2 1 2\n",
      " 2 1]\n",
      "accuracy: 0.8933333333333333\n",
      "number of correct sample: 134\n"
     ]
    }
   ],
   "source": [
    "from sklearn import datasets\n",
    "from sklearn.cluster import KMeans\n",
    "from sklearn.metrics import accuracy_score\n",
    "\n",
    "iris = datasets.load_iris()\n",
    "X = iris.data\n",
    "y = iris.target\n",
    "\n",
    "kmeans = KMeans(n_clusters=3) #指定分3群\n",
    "kmeans = kmeans.fit(X)\n",
    "labels = kmeans.predict(X)  #得到被分群的結果\n",
    "\n",
    "centroids = kmeans.cluster_centers_  #回傳每一群重心的座標\n",
    "\n",
    "print('centroids:',centroids)\n",
    "print('prediction on each data:',labels)\n",
    "\n",
    "\n",
    "#非監督式學習 都是跟label無關，不會給標準答案，所以以上建模訓練都沒有用到y\n",
    "#有個疑問?資料中早就給了類別，所以我們就偷偷的測測看到底K-means分類多準\n",
    "accuracy = accuracy_score(y, labels)\n",
    "num_correct_samples = accuracy_score(y, labels, normalize=False)\n",
    "\n",
    "print('accuracy:',accuracy)\n",
    "print('number of correct sample:',num_correct_samples)"
   ]
  },
  {
   "cell_type": "markdown",
   "metadata": {},
   "source": [
    "# DBSCAN (密度分群)\n",
    "- ref: http://scikit-learn.org/stable/modules/generated/sklearn.cluster.DBSCAN.html\n",
    "- DBscan演算法特色：\n",
    "1. 事前 不知道結果會分幾群\n",
    "2. 會有邊緣人(雜訊點)不被分在哪一群\n",
    "\n",
    "\n",
    "- 鳶尾花資料集 來源： (User Guide 可以看欄位簡介)\n",
    "- https://scikit-learn.org/stable/modules/generated/sklearn.datasets.load_iris.html\n",
    "1. Classes：3  (分3種花)\n",
    "2. Samples per class：50  (每一種類50筆)\n",
    "3. Samples total：150 (共150筆)\n",
    "4. Dimensionality：4 (維度4，每一筆特徵有4個：花萼長寬.花蕊長寬)\n",
    "5. 目標：用前面4欄的特性，去看應該是屬於哪一類別的花"
   ]
  },
  {
   "cell_type": "code",
   "execution_count": 22,
   "metadata": {},
   "outputs": [
    {
     "name": "stdout",
     "output_type": "stream",
     "text": [
      "cluster on X [ 0  0  0  0  0 -1  0  0  0  0  0  0  0  0 -1 -1 -1  0 -1  0 -1  0 -1  0\n",
      "  0  0  0  0  0  0  0 -1 -1 -1  0  0 -1  0  0  0  0 -1  0  0 -1  0  0  0\n",
      "  0  0 -1 -1 -1 -1 -1 -1 -1 -1 -1 -1 -1 -1 -1 -1 -1 -1 -1  1 -1  1  2 -1\n",
      " -1 -1 -1 -1 -1 -1 -1 -1  1  1  1 -1 -1 -1 -1 -1  1  1 -1 -1  1 -1  1  1\n",
      "  1 -1 -1  1 -1 -1 -1 -1 -1 -1 -1 -1 -1 -1 -1 -1 -1 -1 -1 -1 -1 -1 -1 -1\n",
      " -1 -1 -1 -1 -1 -1  2  2 -1 -1 -1 -1 -1 -1 -1 -1 -1 -1  2 -1 -1 -1 -1 -1\n",
      " -1 -1 -1 -1 -1  2]\n",
      "number of clusters: 3\n"
     ]
    }
   ],
   "source": [
    "from sklearn import datasets\n",
    "from sklearn.cluster import DBSCAN\n",
    "from sklearn.metrics import accuracy_score\n",
    "\n",
    "iris = datasets.load_iris()\n",
    "X = iris.data\n",
    "y = iris.target\n",
    "\n",
    "#           半徑    MinPts最少要框住幾個點\n",
    "db = DBSCAN(eps=0.3, min_samples=5).fit(X)\n",
    "labels = db.labels_ #回傳分群結果\n",
    "\n",
    "\n",
    "# 提醒： -1 為雜訊點，不為任何一群\n",
    "#以結果來說有太多-1，所以可以調整半徑或最少點 讓結果更好\n",
    "print('cluster on X',labels)\n",
    "\n",
    "\n",
    "# 計算有幾群                   #如果labels有-1的話 回傳1，否則0\n",
    "n_clusters = len(set(labels)) - (1 if -1 in labels else 0) \n",
    "\n",
    "print('number of clusters:',n_clusters)"
   ]
  },
  {
   "cell_type": "markdown",
   "metadata": {},
   "source": [
    "# EM(GMM)  最大期望算法\n",
    "- Expectation–Maximization\n",
    "- 抽樣平均 = 母體平均(前提是要符合高斯常態分佈)\n",
    "- ref: http://scikit-learn.org/stable/modules/generated/sklearn.mixture.GaussianMixture.html"
   ]
  },
  {
   "cell_type": "markdown",
   "metadata": {},
   "source": [
    "- 鳶尾花資料集 來源： (User Guide 可以看欄位簡介)\n",
    "- https://scikit-learn.org/stable/modules/generated/sklearn.datasets.load_iris.html\n",
    "1. Classes：3  (分3種花)\n",
    "2. Samples per class：50  (每一種類50筆)\n",
    "3. Samples total：150 (共150筆)\n",
    "4. Dimensionality：4 (維度4，每一筆特徵有4個：花萼長寬.花蕊長寬)\n",
    "5. 目標：用前面4欄的特性，去看應該是屬於哪一類別的花"
   ]
  },
  {
   "cell_type": "code",
   "execution_count": 10,
   "metadata": {},
   "outputs": [
    {
     "name": "stdout",
     "output_type": "stream",
     "text": [
      "[0 0 0 0 0 0 0 0 0 0 0 0 0 0 0 0 0 0 0 0 0 0 0 0 0 0 0 0 0 0 0 0 0 0 0 0 0\n",
      " 0 0 0 0 0 0 0 0 0 0 0 0 0 2 2 2 2 2 2 2 2 2 2 2 2 2 2 2 2 2 2 1 2 1 2 1 2\n",
      " 2 2 2 1 2 2 2 2 2 1 2 2 2 2 2 2 2 2 2 2 2 2 2 2 2 2 1 1 1 1 1 1 1 1 1 1 1\n",
      " 1 1 1 1 1 1 1 1 1 1 1 1 1 1 1 1 1 1 1 1 1 1 1 1 1 1 1 1 1 1 1 1 1 1 1 1 1\n",
      " 1 1]\n"
     ]
    }
   ],
   "source": [
    "from sklearn import datasets\n",
    "from sklearn import mixture\n",
    "\n",
    "iris = datasets.load_iris()\n",
    "X = iris.data\n",
    "y = iris.target\n",
    "\n",
    "                #高斯常態分佈      要分幾群\n",
    "gmm = mixture.GaussianMixture(n_components=3).fit(X)\n",
    "X_pred = gmm.predict(X)\n",
    "\n",
    "print(X_pred)"
   ]
  }
 ],
 "metadata": {
  "kernelspec": {
   "display_name": "Python 3",
   "language": "python",
   "name": "python3"
  },
  "language_info": {
   "codemirror_mode": {
    "name": "ipython",
    "version": 3
   },
   "file_extension": ".py",
   "mimetype": "text/x-python",
   "name": "python",
   "nbconvert_exporter": "python",
   "pygments_lexer": "ipython3",
   "version": "3.7.9"
  }
 },
 "nbformat": 4,
 "nbformat_minor": 2
}
