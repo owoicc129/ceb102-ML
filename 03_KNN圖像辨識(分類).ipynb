{
 "cells": [
  {
   "cell_type": "markdown",
   "metadata": {},
   "source": [
    "#### 把照片 分格子 變成向量\n",
    "![alt text](./images/ML_01.jpg)"
   ]
  },
  {
   "cell_type": "markdown",
   "metadata": {},
   "source": [
    "![alt text](./images/ML_02.jpg)"
   ]
  },
  {
   "cell_type": "markdown",
   "metadata": {},
   "source": [
    "![alt text](./images/ML_03.jpg)"
   ]
  },
  {
   "cell_type": "markdown",
   "metadata": {},
   "source": [
    "![alt text](./images/ML_04.jpg)"
   ]
  },
  {
   "cell_type": "code",
   "execution_count": 1,
   "metadata": {},
   "outputs": [
    {
     "name": "stdout",
     "output_type": "stream",
     "text": [
      "(100, 240, 240)\n"
     ]
    }
   ],
   "source": [
    "import cv2\n",
    "import numpy as np\n",
    "\n",
    "s='./data/'  \n",
    "\n",
    "num=100  #總共100張\n",
    "row=240  #size\n",
    "col=240 \n",
    "images = np.zeros((num,row,col)) #先創圖片為空矩陣\n",
    "\n",
    "n=0 #第幾張\n",
    "for i in range(0,10):\n",
    "    for j in range(1,11):\n",
    "        images[n,:,:]=cv2.imread(s+str(i)+'/'+str(i)+'-'+str(j)+'.bmp',0)\n",
    "        n=n+1\n",
    "\n",
    "print(images.shape)  "
   ]
  },
  {
   "cell_type": "code",
   "execution_count": 2,
   "metadata": {},
   "outputs": [
    {
     "name": "stdout",
     "output_type": "stream",
     "text": [
      "[[  0.   0. 178. 286.   6.   0.]\n",
      " [  0.   0. 333.  22. 320.   0.]\n",
      " [  0.   0. 291.   0. 285.   0.]\n",
      " [  0.   0. 361. 151. 284.   0.]\n",
      " [  0.   0.   4. 171.   0.   0.]\n",
      " [  0.   0.   0.   0.   0.   0.]]\n",
      "(100, 36)\n",
      "(100,)\n",
      "[0 0 0 0 0 0 0 0 0 0 1 1 1 1 1 1 1 1 1 1 2 2 2 2 2 2 2 2 2 2 3 3 3 3 3 3 3\n",
      " 3 3 3 4 4 4 4 4 4 4 4 4 4 5 5 5 5 5 5 5 5 5 5 6 6 6 6 6 6 6 6 6 6 7 7 7 7\n",
      " 7 7 7 7 7 7 8 8 8 8 8 8 8 8 8 8 9 9 9 9 9 9 9 9 9 9]\n"
     ]
    }
   ],
   "source": [
    "#把每張240*240大小的圖從一整張，分割成6*6=36格\n",
    "feature = np.zeros((num,round(row/40),round(col/40))) \n",
    "\n",
    "#依據黑色出現次數 為每個格子填上數值\n",
    "for ni in range(0,num):\n",
    "    for nr in range(0,row):\n",
    "        for nc in range(0,col):\n",
    "            if images[ni,nr,nc]==0:  #0是黑色\n",
    "                feature[ni,int(nr/40),int(nc/40)]+=1\n",
    "\n",
    "#把照片 向量化\n",
    "dataset = feature[:,:].reshape(-1,round(row/40)*round(col/40)).astype(np.float32) \n",
    "\n",
    "# 圖片的標籤 (10張0、10張1...)\n",
    "labels = np.asarray([int(i/10)  for i in range(0,100)])\n",
    "\n",
    "print(feature[0])  #0的第一張圖\n",
    "print(dataset.shape) #100張 每張36個數 的向量\n",
    "print(labels.shape)\n",
    "print(labels)"
   ]
  },
  {
   "cell_type": "code",
   "execution_count": 3,
   "metadata": {},
   "outputs": [
    {
     "name": "stdout",
     "output_type": "stream",
     "text": [
      "(60, 36)\n",
      "(60,)\n",
      "(40, 36)\n",
      "(40,)\n",
      "[0 7 3 5 4 0 1 3 4 6 2 6 9 3 5 8 1 8 9 9 8 7 9 2 8 2 4 8 0 1 9 1 5 2 2 6 5\n",
      " 6 8 3 0 5 1 6 8 5 9 4 1 2 9 0 3 3 6 1 7 7 7 3]\n"
     ]
    }
   ],
   "source": [
    "from sklearn.model_selection import train_test_split\n",
    "from sklearn import preprocessing\n",
    "from sklearn import neighbors\n",
    "from sklearn.metrics import accuracy_score, confusion_matrix\n",
    "\n",
    "\n",
    "X_train, X_test, y_train, y_test = train_test_split(dataset, labels, test_size=0.4)\n",
    "\n",
    "print(X_train.shape)\n",
    "print(y_train.shape)\n",
    "\n",
    "print(X_test.shape)\n",
    "print(y_test.shape)\n",
    "\n",
    "print(y_train)"
   ]
  },
  {
   "cell_type": "code",
   "execution_count": 4,
   "metadata": {},
   "outputs": [
    {
     "name": "stdout",
     "output_type": "stream",
     "text": [
      "[4 0 4 7 3 5 5 8 5 7 6 8 2 5 0 4 4 1 9 0 1 9 0 1 7 2 3 6 6 2 0 7 6 7 3 9 2\n",
      " 4 4 8]\n",
      "[4 0 4 9 3 5 3 8 8 9 6 8 1 3 0 1 4 1 2 0 1 9 0 1 9 2 6 1 6 1 0 7 6 7 3 9 2\n",
      " 4 4 8]\n",
      "number of correct sample: 28\n",
      "accuracy: 0.7\n",
      "confusion matrix: [[5 0 0 0 0 0 0 0 0 0]\n",
      " [0 3 0 0 0 0 0 0 0 0]\n",
      " [0 2 2 0 0 0 0 0 0 0]\n",
      " [0 0 0 2 0 0 1 0 0 0]\n",
      " [0 1 0 0 5 0 0 0 0 0]\n",
      " [0 0 0 2 0 1 0 0 1 0]\n",
      " [0 1 0 0 0 0 3 0 0 0]\n",
      " [0 0 0 0 0 0 0 2 0 3]\n",
      " [0 0 0 0 0 0 0 0 3 0]\n",
      " [0 0 1 0 0 0 0 0 0 2]]\n"
     ]
    }
   ],
   "source": [
    "scaler = preprocessing.StandardScaler().fit(X_train)\n",
    "X_train = scaler.transform(X_train)\n",
    "\n",
    "model = neighbors.KNeighborsClassifier(n_neighbors=10)\n",
    "model.fit(X_train, y_train)\n",
    "\n",
    "\n",
    "X_test = scaler.transform(X_test)\n",
    "\n",
    "y_pred = model.predict(X_test)\n",
    "\n",
    "accuracy = accuracy_score(y_test, y_pred)\n",
    "num_correct_samples = accuracy_score(y_test, y_pred, normalize=False)\n",
    "con_matrix = confusion_matrix(y_test, y_pred)\n",
    "\n",
    "print(y_test)\n",
    "print(y_pred)\n",
    "print('number of correct sample:',num_correct_samples)\n",
    "print('accuracy:',accuracy)\n",
    "print('confusion matrix:',con_matrix)"
   ]
  }
 ],
 "metadata": {
  "kernelspec": {
   "display_name": "Python 3",
   "language": "python",
   "name": "python3"
  },
  "language_info": {
   "codemirror_mode": {
    "name": "ipython",
    "version": 3
   },
   "file_extension": ".py",
   "mimetype": "text/x-python",
   "name": "python",
   "nbconvert_exporter": "python",
   "pygments_lexer": "ipython3",
   "version": "3.7.9"
  }
 },
 "nbformat": 4,
 "nbformat_minor": 2
}
