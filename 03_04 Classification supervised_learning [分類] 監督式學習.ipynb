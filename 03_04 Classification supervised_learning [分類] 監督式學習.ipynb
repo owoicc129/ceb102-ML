{
 "cells": [
  {
   "cell_type": "markdown",
   "metadata": {},
   "source": [
    "# K-Nearest Neighbor  \n",
    "### KNN ：沒有參數的 分類 或 回歸 模型\n",
    "ref: http://scikit-learn.org/stable/modules/generated/sklearn.neighbors.KNeighborsClassifier.html\n",
    "- 鳶尾花資料集 來源： (User Guide 可以看欄位簡介)\n",
    "- https://scikit-learn.org/stable/modules/generated/sklearn.datasets.load_iris.html\n",
    "1. Classes：3  (分3種花)\n",
    "2. Samples per class：50  (每一種類50筆)\n",
    "3. Samples total：150 (共150筆)\n",
    "4. Dimensionality：4 (維度4，每一筆特徵有4個：花萼長寬.花蕊長寬)\n",
    "5. 目標：用前面4欄的特性，去看應該是屬於哪一類別的花"
   ]
  },
  {
   "cell_type": "code",
   "execution_count": 17,
   "metadata": {},
   "outputs": [
    {
     "name": "stdout",
     "output_type": "stream",
     "text": [
      "[0 1 1 0 1 0 1 1 0 1 2 1 0 0 1 0 1 2 0 1 2 2 0 2 1 0 2 0 0 1]\n",
      "accuracy: 0.8\n",
      "number of correct sample: 24\n",
      "confusion matrix: [[12  1  0]\n",
      " [ 0  8  2]\n",
      " [ 0  3  4]]\n"
     ]
    }
   ],
   "source": [
    "from sklearn import datasets\n",
    "from sklearn.model_selection import train_test_split\n",
    "from sklearn import preprocessing\n",
    "from sklearn import neighbors\n",
    "from sklearn.metrics import accuracy_score, confusion_matrix\n",
    "\n",
    "iris = datasets.load_iris()\n",
    "X = iris.data[:, :2] #  此示範只選前兩個特徵\n",
    "y = iris.target # 花的種類\n",
    "\n",
    "X_train, X_test, y_train, y_test = train_test_split(X, y, test_size=0.2)\n",
    "\n",
    "scaler = preprocessing.StandardScaler().fit(X_train) \n",
    "X_train = scaler.transform(X_train) \n",
    "\n",
    "model = neighbors.KNeighborsClassifier(n_neighbors=4) # n_neighbors = K值\n",
    "model.fit(X_train, y_train)\n",
    "\n",
    "X_test = scaler.transform(X_test) \n",
    "\n",
    "y_pred = model.predict(X_test) \n",
    "\n",
    "accuracy = accuracy_score(y_test, y_pred)\n",
    "num_correct_samples = accuracy_score(y_test, y_pred, normalize=False) #normalize=False(猜對幾個樣本)\n",
    "con_matrix = confusion_matrix(y_test, y_pred)  # 混淆矩陣\n",
    "\n",
    "print(y_pred)\n",
    "print('accuracy:',accuracy)\n",
    "print('number of correct sample:',num_correct_samples)\n",
    "print('confusion matrix:',con_matrix)"
   ]
  },
  {
   "cell_type": "markdown",
   "metadata": {},
   "source": [
    "### KNN 練習\n",
    "- 小麥資料集 來源： (共7個欄位,210筆資料)\n",
    "- https://archive.ics.uci.edu/ml/datasets/seeds#\n",
    "1. 前面幾欄是 特徵：面積.周長.籽粒長度....\n",
    "2. 最後一欄是小麥的 類別 (有3種 數字1.2.3)\n",
    "3. 目標：用前面幾欄特徵，分類出是哪種小麥品種"
   ]
  },
  {
   "cell_type": "code",
   "execution_count": 8,
   "metadata": {},
   "outputs": [
    {
     "name": "stdout",
     "output_type": "stream",
     "text": [
      "       0      1       2      3      4      5      6  7\n",
      "0  15.26  14.84  0.8710  5.763  3.312  2.221  5.220  1\n",
      "1  14.88  14.57  0.8811  5.554  3.333  1.018  4.956  1\n",
      "2  14.29  14.09  0.9050  5.291  3.337  2.699  4.825  1\n",
      "3  13.84  13.94  0.8955  5.324  3.379  2.259  4.805  1\n",
      "4  16.14  14.99  0.9034  5.658  3.562  1.355  5.175  1\n",
      "accuracy: 0.9285714285714286\n",
      "number of correct sample: 39\n"
     ]
    }
   ],
   "source": [
    "import pandas as pd\n",
    "from sklearn import datasets\n",
    "from sklearn.model_selection import train_test_split\n",
    "from sklearn import preprocessing\n",
    "from sklearn import neighbors\n",
    "from sklearn.metrics import accuracy_score\n",
    "\n",
    "df = pd.read_csv('./dataset/seeds_dataset.csv', header=None) #沒有欄位名稱所以header=None，讓他變出欄位索引\n",
    "print(df.head())\n",
    "\n",
    "X = df[[0, 1, 2, 3, 4, 5, 6]]\n",
    "y = df[7]-1  #因為他的種類索引是從1開始，我們習慣從0，所以調整一下\n",
    "\n",
    "X_train, X_test, y_train, y_test = train_test_split(X, y, test_size=0.2)\n",
    "\n",
    "scaler = preprocessing.StandardScaler().fit(X_train)\n",
    "X_train = scaler.transform(X_train)\n",
    "\n",
    "model = neighbors.KNeighborsClassifier()  # 沒給 n_neighbors = K值，預設=5\n",
    "model.fit(X_train, y_train)\n",
    "\n",
    "X_test = scaler.transform(X_test)\n",
    "\n",
    "y_pred = model.predict(X_test)\n",
    "accuracy = accuracy_score(y_test, y_pred)\n",
    "num_correct_samples = accuracy_score(y_test, y_pred, normalize=False)\n",
    "\n",
    "print('accuracy: {}'.format(accuracy))\n",
    "print('number of correct sample: {}'.format(num_correct_samples))"
   ]
  },
  {
   "cell_type": "markdown",
   "metadata": {},
   "source": [
    "# Decision Tree  決策樹 (找到切入的點)\n",
    "ref: http://scikit-learn.org/stable/modules/generated/sklearn.tree.DecisionTreeClassifier.html\n",
    "\n",
    "## Install graphviz to draw the tree\n",
    "`pip install graphviz`   \n",
    "`conda install python-graphviz`"
   ]
  },
  {
   "cell_type": "markdown",
   "metadata": {},
   "source": [
    "- 鳶尾花資料集 來源： (User Guide 可以看欄位簡介)\n",
    "- https://scikit-learn.org/stable/modules/generated/sklearn.datasets.load_iris.html\n",
    "1. Classes：3  (分3種花)\n",
    "2. Samples per class：50  (每一種類50筆)\n",
    "3. Samples total：150 (共150筆)\n",
    "4. Dimensionality：4 (維度4，每一筆特徵有4個：花萼長寬.花蕊長寬)\n",
    "5. 目標：用前面4欄的特性，去看應該是屬於哪一類別的花"
   ]
  },
  {
   "cell_type": "code",
   "execution_count": 16,
   "metadata": {},
   "outputs": [
    {
     "name": "stdout",
     "output_type": "stream",
     "text": [
      "number of correct sample: 30\n",
      "accuracy: 1.0\n",
      "con_matrix: [[16  0  0]\n",
      " [ 0  7  0]\n",
      " [ 0  0  7]]\n"
     ]
    },
    {
     "data": {
      "text/plain": [
       "'iris.pdf'"
      ]
     },
     "execution_count": 16,
     "metadata": {},
     "output_type": "execute_result"
    }
   ],
   "source": [
    "from sklearn.datasets import load_iris\n",
    "from sklearn.model_selection import train_test_split\n",
    "from sklearn import preprocessing\n",
    "from sklearn.tree import DecisionTreeClassifier\n",
    "from sklearn.metrics import accuracy_score, confusion_matrix\n",
    "from sklearn import tree\n",
    "import graphviz \n",
    "\n",
    "import os\n",
    "#把 graphviz的執行檔 匯入路徑裡\n",
    "os.environ[\"PATH\"] += os.pathsep + './graphviz-2.38/bin'\n",
    "\n",
    "iris = load_iris()\n",
    "\n",
    "X = iris.data \n",
    "y = iris.target\n",
    "\n",
    "X_train, X_test, y_train, y_test = train_test_split(X, y, test_size=0.2)\n",
    "\n",
    "scaler = preprocessing.StandardScaler().fit(X_train)\n",
    "X_train = scaler.transform(X_train)\n",
    "\n",
    "model = DecisionTreeClassifier(max_depth=3) #事前 設定 樹最多長3層\n",
    "model.fit(X_train, y_train)\n",
    "\n",
    "X_test = scaler.transform(X_test)\n",
    "\n",
    "y_pred = model.predict(X_test)\n",
    "num_correct_samples = accuracy_score(y_test, y_pred, normalize=False)\n",
    "accuracy = accuracy_score(y_test, y_pred)\n",
    "con_matrix = confusion_matrix(y_test, y_pred)\n",
    "\n",
    "print('number of correct sample:',num_correct_samples)\n",
    "print('accuracy:',accuracy)\n",
    "print('con_matrix:',con_matrix)\n",
    "\n",
    "# output tree structure 畫出樹圖\n",
    "dot_data = tree.export_graphviz(model, out_file=None) \n",
    "graph = graphviz.Source(dot_data) \n",
    "graph.render(\"iris\")   #會在資料夾裡 有Iris PDF\n"
   ]
  },
  {
   "cell_type": "markdown",
   "metadata": {},
   "source": [
    "# Naive Bayes  樸素貝葉斯 (機率)\n",
    "ref:  \n",
    "http://scikit-learn.org/stable/modules/generated/sklearn.naive_bayes.GaussianNB.html  \n",
    "http://scikit-learn.org/stable/modules/generated/sklearn.naive_bayes.MultinomialNB.html"
   ]
  },
  {
   "cell_type": "code",
   "execution_count": 22,
   "metadata": {},
   "outputs": [
    {
     "name": "stdout",
     "output_type": "stream",
     "text": [
      "number of correct sample: 29\n",
      "accuracy: 0.9666666666666667\n",
      "con_matrix: [[ 9  0  0]\n",
      " [ 0 11  1]\n",
      " [ 0  0  9]]\n"
     ]
    }
   ],
   "source": [
    "from sklearn import datasets\n",
    "from sklearn.model_selection import train_test_split\n",
    "from sklearn import preprocessing\n",
    "from sklearn.naive_bayes import GaussianNB, MultinomialNB\n",
    "from sklearn.metrics import accuracy_score\n",
    "\n",
    "iris = datasets.load_iris()\n",
    "\n",
    "X = iris.data \n",
    "y = iris.target\n",
    "\n",
    "X_train, X_test, y_train, y_test = train_test_split(X, y, test_size=0.2)\n",
    "\n",
    "#----------兩種方法--------------\n",
    "# 1. 高斯常態分布\n",
    "scaler = preprocessing.StandardScaler().fit(X_train)\n",
    "X_train = scaler.transform(X_train)\n",
    "model = GaussianNB() \n",
    "\n",
    "# 2. Multinomial Naive Bayes 多項式樸素貝葉斯  課本的第一種\n",
    "# scaler = preprocessing.MinMaxScaler().fit(X_train)  \n",
    "# X_train = scaler.transform(X_train)\n",
    "# model = MultinomialNB() \n",
    "\n",
    "#--------------------------------\n",
    "\n",
    "model.fit(X_train, y_train)\n",
    "\n",
    "X_test = scaler.transform(X_test)\n",
    "\n",
    "y_pred = model.predict(X_test)\n",
    "num_correct_samples = accuracy_score(y_test, y_pred, normalize=False)\n",
    "accuracy = accuracy_score(y_test, y_pred)\n",
    "con_matrix = confusion_matrix(y_test, y_pred)\n",
    "\n",
    "print('number of correct sample:',num_correct_samples)\n",
    "print('accuracy:',accuracy)\n",
    "print('con_matrix:',con_matrix)"
   ]
  },
  {
   "cell_type": "markdown",
   "metadata": {},
   "source": [
    "# Random Forest  (多棵決策樹)\n",
    "ref: http://scikit-learn.org/stable/modules/generated/sklearn.ensemble.RandomForestClassifier.html"
   ]
  },
  {
   "cell_type": "code",
   "execution_count": 2,
   "metadata": {},
   "outputs": [
    {
     "name": "stdout",
     "output_type": "stream",
     "text": [
      "number of correct sample: 30\n",
      "accuracy: 1.0\n",
      "con_matrix: [[10  0  0]\n",
      " [ 0  8  0]\n",
      " [ 0  0 12]]\n"
     ]
    }
   ],
   "source": [
    "from sklearn.datasets import load_iris\n",
    "from sklearn.model_selection import train_test_split\n",
    "from sklearn import preprocessing\n",
    "from sklearn.ensemble import RandomForestClassifier\n",
    "from sklearn.metrics import accuracy_score, confusion_matrix\n",
    "from sklearn import tree\n",
    "import graphviz \n",
    "\n",
    "import os\n",
    "#把 graphviz的執行檔 匯入路徑裡\n",
    "os.environ[\"PATH\"] += os.pathsep + './graphviz-2.38/bin'\n",
    "\n",
    "iris = load_iris()\n",
    "X = iris.data \n",
    "y = iris.target\n",
    "\n",
    "X_train, X_test, y_train, y_test = train_test_split(X, y, test_size=0.2)\n",
    "\n",
    "scaler = preprocessing.StandardScaler().fit(X_train)\n",
    "X_train = scaler.transform(X_train)\n",
    "\n",
    "                              #每棵樹深度6層   要有10棵決策樹\n",
    "model = RandomForestClassifier(max_depth=6, n_estimators=10)\n",
    "model.fit(X_train, y_train)\n",
    "\n",
    "X_test = scaler.transform(X_test)\n",
    "\n",
    "y_pred = model.predict(X_test)\n",
    "accuracy = accuracy_score(y_test, y_pred)\n",
    "num_correct_samples = accuracy_score(y_test, y_pred, normalize=False)\n",
    "con_matrix = confusion_matrix(y_test, y_pred)\n",
    "\n",
    "print('number of correct sample:',num_correct_samples)\n",
    "print('accuracy:',accuracy)\n",
    "print('con_matrix:',con_matrix)\n",
    "\n",
    "\n",
    "#畫出多棵樹圖\n",
    "for i_tree, tree_in_forest in enumerate(model.estimators_):\n",
    "    dot_data = tree.export_graphviz(tree_in_forest, out_file = None)\n",
    "    graph = graphviz.Source(dot_data) \n",
    "    graph.render('./random_forest_plot/tree_' + str(i_tree)) "
   ]
  },
  {
   "cell_type": "markdown",
   "metadata": {},
   "source": [
    "# SVM  (Support Vector Machine) 支撐向量機\n",
    "ref: http://scikit-learn.org/stable/modules/generated/sklearn.svm.SVC.html\n",
    "\n",
    "- 胸腔的癌症資料集 來源： (點開User Guide 有欄位介紹)\n",
    "- https://scikit-learn.org/stable/modules/generated/sklearn.datasets.load_breast_cancer.html\n",
    "1. Classes：兩個類別 \n",
    "2. Samples per class：[M類別]212筆、[B類別]357筆，共569筆資料          \n",
    "3. Dimensionality：30種特徵\n",
    "4. 目標：用這些特徵去預測 是 M/B類癌症"
   ]
  },
  {
   "cell_type": "code",
   "execution_count": 5,
   "metadata": {},
   "outputs": [
    {
     "name": "stdout",
     "output_type": "stream",
     "text": [
      "number of correct sample: 110\n",
      "accuracy: 0.9649122807017544\n",
      "con_matrix: [[41  3]\n",
      " [ 1 69]]\n"
     ]
    }
   ],
   "source": [
    "from sklearn.datasets import load_breast_cancer\n",
    "from sklearn.model_selection import train_test_split\n",
    "from sklearn import preprocessing\n",
    "from sklearn.svm import SVC\n",
    "from sklearn.metrics import accuracy_score, confusion_matrix\n",
    "\n",
    "cancer = load_breast_cancer()\n",
    "\n",
    "X = cancer.data \n",
    "y = cancer.target\n",
    "\n",
    "X_train, X_test, y_train, y_test = train_test_split(X, y, test_size=0.2)\n",
    "\n",
    "scaler = preprocessing.StandardScaler().fit(X_train)\n",
    "X_train = scaler.transform(X_train)\n",
    "\n",
    "# 講義p.58有三種kernel類型 rbf, poly, linear，可以更換\n",
    "model = SVC(kernel='rbf')\n",
    "model.fit(X_train, y_train)\n",
    "\n",
    "X_test = scaler.transform(X_test)\n",
    "\n",
    "y_pred = model.predict(X_test)\n",
    "accuracy = accuracy_score(y_test, y_pred)\n",
    "num_correct_samples = accuracy_score(y_test, y_pred, normalize=False)\n",
    "con_matrix = confusion_matrix(y_test, y_pred)\n",
    "\n",
    "print('number of correct sample:',num_correct_samples)\n",
    "print('accuracy:',accuracy)\n",
    "print('con_matrix:',con_matrix)"
   ]
  }
 ],
 "metadata": {
  "kernelspec": {
   "display_name": "Python 3",
   "language": "python",
   "name": "python3"
  },
  "language_info": {
   "codemirror_mode": {
    "name": "ipython",
    "version": 3
   },
   "file_extension": ".py",
   "mimetype": "text/x-python",
   "name": "python",
   "nbconvert_exporter": "python",
   "pygments_lexer": "ipython3",
   "version": "3.7.9"
  }
 },
 "nbformat": 4,
 "nbformat_minor": 2
}
